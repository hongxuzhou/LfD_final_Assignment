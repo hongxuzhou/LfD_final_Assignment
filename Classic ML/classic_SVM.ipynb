{
 "cells": [
  {
   "cell_type": "markdown",
   "metadata": {},
   "source": [
    "# Classic ML -- SVM "
   ]
  },
  {
   "cell_type": "markdown",
   "metadata": {},
   "source": [
    "## 0. Install necessary libraries"
   ]
  },
  {
   "cell_type": "code",
   "execution_count": 37,
   "metadata": {},
   "outputs": [],
   "source": [
    "# Basic data analysis libraries \n",
    "import numpy as np\n",
    "import pandas as pd\n",
    "\n",
    "# Visualisation libraries\n",
    "import matplotlib.pyplot as plt\n",
    "import seaborn as sns\n",
    "\n",
    "# For data preprocessing and cleaning\n",
    "import emoji \n",
    "from emoji import demojize, emojize\n",
    "\n",
    "# NLP Libraries\n",
    "import nltk\n",
    "import spacy\n",
    "import re\n",
    "from nltk.stem import WordNetLemmatizer, PorterStemmer\n",
    "from nltk.corpus import stopwords # I dont want to use this one for now\n",
    "from nltk.tokenize import word_tokenize\n",
    "from spacy.lang.en import English\n",
    "\n",
    "# Sklearn libraries\n",
    "from sklearn.feature_extraction.text import CountVectorizer\n",
    "from sklearn.svm import LinearSVC\n",
    "from sklearn.metrics import accuracy_score, f1_score, confusion_matrix, accuracy_score, classification_report\n",
    "from sklearn.pipeline import Pipeline"
   ]
  },
  {
   "cell_type": "markdown",
   "metadata": {},
   "source": [
    "## 1. Load data"
   ]
  },
  {
   "cell_type": "code",
   "execution_count": 38,
   "metadata": {},
   "outputs": [],
   "source": [
    "# Read the data from the tsv file\n",
    "def load_data(train_path, dev_path, text_path):\n",
    "    train_df = pd.read_csv('/Users/hongxuzhou/LfD/LfD_final_Assignment/data_sets/train.tsv', sep='\\t')\n",
    "    dev_df = pd.read_csv('/Users/hongxuzhou/LfD/LfD_final_Assignment/data_sets/dev.tsv', sep='\\t')\n",
    "    test_df = pd.read_csv('/Users/hongxuzhou/LfD/LfD_final_Assignment/data_sets/test.tsv', sep = '\\t') \n",
    "\n",
    "    # Split the data into features and labels\n",
    "    X_train = train_df.iloc[:, 0] # The first column is the tweets\n",
    "    y_train = train_df.iloc[:, 1] # The second column is the labels\n",
    "\n",
    "    # Follow the same steps for the dev set\n",
    "    X_dev = dev_df.iloc[:, 0]\n",
    "    y_dev = dev_df.iloc[:, 1]\n",
    "\n",
    "    # Follow the same steps for the test set\n",
    "    X_test = test_df.iloc[:, 0]\n",
    "    y_test = test_df.iloc[:, 1]\n",
    "\n",
    "    # Map the labels to integers\n",
    "    label_map = {'OFF': 1, 'NOT': 0} # is this step necessary?\n",
    "    y_train = y_train.map(label_map)\n",
    "    y_dev = y_dev.map(label_map)\n",
    "    y_test = y_test.map(label_map)\n",
    "\n",
    "    return (X_train, y_train), (X_dev, y_dev), (X_test, y_test)"
   ]
  },
  {
   "cell_type": "code",
   "execution_count": 39,
   "metadata": {},
   "outputs": [],
   "source": [
    "# Save the labels fro classification report\n",
    "class_names = ['Offensive', 'Not Offensive']"
   ]
  },
  {
   "cell_type": "markdown",
   "metadata": {},
   "source": [
    "## 2. Build model"
   ]
  },
  {
   "cell_type": "code",
   "execution_count": 40,
   "metadata": {},
   "outputs": [],
   "source": [
    "def create_basic_svm(max_features=10000, ngram_range=(1, 1)):\n",
    "    \"\"\"\n",
    "    Create a basic SVM model using the CountVectorizer and LinearSVC\n",
    "    \"\"\"\n",
    "    # Create a pipeline\n",
    "    pipeline = Pipeline([\n",
    "        # Will add feature extraction and classification steps here\n",
    "        ('vectorizer', CountVectorizer(\n",
    "            lowercase=True, # Remember to turn if off for testing\n",
    "            max_features=max_features, # May need to change it for testing \n",
    "            ngram_range=ngram_range, # Consider incleasing it for testing\n",
    "            strip_accents='unicode' # Can it manage emojis?\n",
    "            )),\n",
    "        # Dont forget to try tf-idf\n",
    "        ('classifier', LinearSVC())\n",
    "    ])\n",
    "    return pipeline"
   ]
  },
  {
   "cell_type": "code",
   "execution_count": 41,
   "metadata": {},
   "outputs": [],
   "source": [
    "# Train the model\n",
    "def train_model(pipeline, X_train, y_train):\n",
    "    \"\"\"\n",
    "    Train the model\n",
    "    \"\"\"\n",
    "    pipeline.fit(X_train, y_train)\n",
    "    return pipeline\n"
   ]
  },
  {
   "cell_type": "markdown",
   "metadata": {},
   "source": [
    "## 3. Train & Evaluate"
   ]
  },
  {
   "cell_type": "code",
   "execution_count": 49,
   "metadata": {},
   "outputs": [],
   "source": [
    "def evalute_model(pipeline, X, y, split_name=\"\"): # Why?\n",
    "    \"\"\"\n",
    "    Evaluate the model\n",
    "    \"\"\"\n",
    "    # Get predictions\n",
    "    y_pred = pipeline.predict(X)\n",
    "    \n",
    "    # Calculate metrics\n",
    "    acc = accuracy_score(y, y_pred)\n",
    "    class_report = classification_report(y, y_pred, output_dict= True, target_names=class_names)\n",
    "    conf_matrix = confusion_matrix(y, y_pred)\n",
    "    \n",
    "    # Print results \n",
    "    print(f\"\\nResults for {split_name} set:\")\n",
    "    print(f'Accuracy: {acc: .4f}')\n",
    "    print(\"\\nClassification Report:\")\n",
    "    print(classification_report(y, y_pred))\n",
    "    \n",
    "    # Plot confusion matrix\n",
    "    plt.figure(figsize=(6,6))\n",
    "    sns.heatmap(conf_matrix, annot=True, fmt='d', cbar=False, cmap='Blues', xticklabels=class_names, yticklabels=class_names)\n",
    "    plt.title(f'Confusion Matrix for {split_name} set')\n",
    "    plt.xlabel('Predicted')\n",
    "    plt.ylabel('Actual')\n",
    "    plt.show()\n",
    "    \n",
    "    return {\n",
    "        \"Accuracy\": acc,\n",
    "        \"Classification Report\": class_report,\n",
    "        'Confusion Matrix': conf_matrix,\n",
    "        'Predictions': y_pred\n",
    "    }\n"
   ]
  },
  {
   "cell_type": "markdown",
   "metadata": {},
   "source": [
    "## 4. Main execution"
   ]
  },
  {
   "cell_type": "code",
   "execution_count": 50,
   "metadata": {},
   "outputs": [
    {
     "name": "stderr",
     "output_type": "stream",
     "text": [
      "/Users/hongxuzhou/miniconda3/envs/tensorflow/lib/python3.10/site-packages/sklearn/svm/_base.py:1235: ConvergenceWarning: Liblinear failed to converge, increase the number of iterations.\n",
      "  warnings.warn(\n"
     ]
    },
    {
     "name": "stdout",
     "output_type": "stream",
     "text": [
      "\n",
      "Results for Train set:\n",
      "Accuracy:  0.9826\n",
      "\n",
      "Classification Report:\n",
      "              precision    recall  f1-score   support\n",
      "\n",
      "           0       0.98      0.99      0.99      8192\n",
      "           1       0.99      0.96      0.97      4047\n",
      "\n",
      "    accuracy                           0.98     12239\n",
      "   macro avg       0.98      0.98      0.98     12239\n",
      "weighted avg       0.98      0.98      0.98     12239\n",
      "\n"
     ]
    },
    {
     "data": {
      "image/png": "[encoded data removed]",
      "text/plain": [
       "<Figure size 600x600 with 1 Axes>"
      ]
     },
     "metadata": {},
     "output_type": "display_data"
    },
    {
     "name": "stdout",
     "output_type": "stream",
     "text": [
      "\n",
      "Results for Dev set:\n",
      "Accuracy:  0.7267\n",
      "\n",
      "Classification Report:\n",
      "              precision    recall  f1-score   support\n",
      "\n",
      "           0       0.77      0.83      0.80       647\n",
      "           1       0.63      0.54      0.58       352\n",
      "\n",
      "    accuracy                           0.73       999\n",
      "   macro avg       0.70      0.68      0.69       999\n",
      "weighted avg       0.72      0.73      0.72       999\n",
      "\n"
     ]
    },
    {
     "data": {
      "image/png": "[encoded data removed]",
      "text/plain": [
       "<Figure size 600x600 with 1 Axes>"
      ]
     },
     "metadata": {},
     "output_type": "display_data"
    }
   ],
   "source": [
    "if __name__ == '__main__':\n",
    "    # 1. Load the data\n",
    "    (X_train, y_train), (X_dev, y_dev), (X_test, y_test) = load_data('/Users/hongxuzhou/LfD/LfD_final_Assignment/data_sets/train.tsv', \n",
    "                                                                     '/Users/hongxuzhou/LfD/LfD_final_Assignment/data_sets/dev.tsv', \n",
    "                                                                     '/Users/hongxuzhou/LfD/LfD_final_Assignment/data_sets/test.tsv'\n",
    "                                                                     )\n",
    "    \n",
    "    # 2. Create and train the pipeline \n",
    "    pipeline = create_basic_svm(\n",
    "        max_features=100000, # May need to change it for testing\n",
    "        ngram_range=(1, 1) # Consider incleasing it for testing\n",
    "    )\n",
    "    \n",
    "    pipeline = train_model(pipeline, X_train, y_train)\n",
    "    \n",
    "    # 3. Evaluate the model\n",
    "    train_results = evalute_model(pipeline, X_train, y_train, \"Train\")\n",
    "    dev_results = evalute_model(pipeline, X_dev, y_dev, \"Dev\")\n",
    "    #test_results = evalute_model(pipeline, X_test, y_test, \"Test\") # We dont run it for now\n",
    "    \n",
    "    # 4. "
   ]
  }
 ],
 "metadata": {
  "kernelspec": {
   "display_name": "tensorflow",
   "language": "python",
   "name": "python3"
  },
  "language_info": {
   "codemirror_mode": {
    "name": "ipython",
    "version": 3
   },
   "file_extension": ".py",
   "mimetype": "text/x-python",
   "name": "python",
   "nbconvert_exporter": "python",
   "pygments_lexer": "ipython3",
   "version": "3.10.13"
  }
 },
 "nbformat": 4,
 "nbformat_minor": 2
}
