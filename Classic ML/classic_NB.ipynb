{
 "cells": [
  {
   "cell_type": "markdown",
   "metadata": {},
   "source": [
    "# Classic ML Algorithms: Naïve Bayes\n"
   ]
  },
  {
   "cell_type": "markdown",
   "metadata": {},
   "source": [
    "## Import necessary libraries"
   ]
  },
  {
   "cell_type": "markdown",
   "metadata": {},
   "source": []
  },
  {
   "cell_type": "code",
   "execution_count": 23,
   "metadata": {},
   "outputs": [],
   "source": [
    "# Basic data manipulation and analysis\n",
    "import pandas as pd\n",
    "import numpy as np\n",
    "import matplotlib.pyplot as plt\n",
    "import seaborn as sns\n",
    "\n",
    "# For data preprocessing and cleaning\n",
    "import emoji \n",
    "from emoji import demojize, emojize\n",
    "\n",
    "# Sklearn related\n",
    "from sklearn.feature_extraction.text import CountVectorizer, TfidfVectorizer\n",
    "from sklearn.naive_bayes import MultinomialNB\n",
    "from sklearn.pipeline import Pipeline, FeatureUnion # Add FeatureUnion to the list\n",
    "from sklearn.model_selection import train_test_split # We don't need this one for now\n",
    "#from sklearn.feature_union import FeatureUnion # Add FeatureUnion to the list\n",
    "from sklearn.base  import BaseEstimator, TransformerMixin # Add BaseEstimator, TransformerMixin to the list\n",
    "from sklearn.metrics import accuracy_score, confusion_matrix, recall_score, precision_score, f1_score, classification_report \n",
    "\n",
    "# NLP Libraries\n",
    "import nltk\n",
    "import spacy\n",
    "import re\n",
    "from nltk.stem import WordNetLemmatizer, PorterStemmer\n",
    "from nltk.corpus import stopwords # I dont want to use this one for now\n",
    "from nltk.tokenize import word_tokenize\n",
    "from spacy.lang.en import English\n",
    "\n",
    "# For saving and loading models\n",
    "import joblib\n",
    "\n",
    "#or timing the Code\n",
    "import time"
   ]
  },
  {
   "cell_type": "code",
   "execution_count": 24,
   "metadata": {},
   "outputs": [],
   "source": [
    "# load spacy model\n",
    "nlp = spacy.load('en_core_web_sm')"
   ]
  },
  {
   "cell_type": "code",
   "execution_count": 25,
   "metadata": {},
   "outputs": [],
   "source": [
    "\n",
    "vectorizer = CountVectorizer"
   ]
  },
  {
   "cell_type": "markdown",
   "metadata": {},
   "source": [
    "## Load the data"
   ]
  },
  {
   "cell_type": "markdown",
   "metadata": {},
   "source": [
    "The three datasets are split before and can be imported directly"
   ]
  },
  {
   "cell_type": "code",
   "execution_count": 26,
   "metadata": {},
   "outputs": [],
   "source": [
    "# Read the data from the tsv file\n",
    "train_df = pd.read_csv('/Users/hongxuzhou/LfD/LfD_final_Assignment/data_sets/train.tsv', sep='\\t')\n",
    "dev_df = pd.read_csv('/Users/hongxuzhou/LfD/LfD_final_Assignment/data_sets/dev.tsv', sep='\\t')\n",
    "test_df = pd.read_csv('/Users/hongxuzhou/LfD/LfD_final_Assignment/data_sets/test.tsv', sep = '\\t') \n"
   ]
  },
  {
   "cell_type": "markdown",
   "metadata": {},
   "source": [
    "Prepare features and labels for each set"
   ]
  },
  {
   "cell_type": "code",
   "execution_count": 27,
   "metadata": {},
   "outputs": [],
   "source": [
    "X_train = train_df.iloc[:, 0] # The first column is the tweets\n",
    "y_train = train_df.iloc[:, 1] # The second column is the labels\n",
    "\n",
    "# Follow the same steps for the dev set\n",
    "X_dev = dev_df.iloc[:, 0]\n",
    "y_dev = dev_df.iloc[:, 1]\n",
    "\n",
    "# Follow the same steps for the test set\n",
    "X_test = test_df.iloc[:, 0]\n",
    "y_test = test_df.iloc[:, 1]\n",
    "\n",
    "# Map the labels to integers\n",
    "label_map = {'OFF': 1, 'NOT': 0}\n",
    "y_train = y_train.map(label_map)\n",
    "y_dev = y_dev.map(label_map)\n",
    "y_test = y_test.map(label_map)\n",
    "\n",
    "# Save the labels fro classification report\n",
    "class_names = ['Offensive', 'Not Offensive']"
   ]
  },
  {
   "cell_type": "markdown",
   "metadata": {},
   "source": [
    "## Data cleaning and preprocessing"
   ]
  },
  {
   "cell_type": "markdown",
   "metadata": {},
   "source": [
    "### Create a custom transformer for text cleaning"
   ]
  },
  {
   "cell_type": "code",
   "execution_count": 28,
   "metadata": {},
   "outputs": [],
   "source": [
    "class TextCleaner(BaseEstimator, TransformerMixin):\n",
    "    def fit(self, X, y=None): # This transformer doesn't need to learn anything about the data\n",
    "        return self\n",
    "    \n",
    "    def transform(self, X): # This transformer returns the cleaned text\n",
    "        cleaned_text = [] # Create an empty list to store the cleaned text\n",
    "        for text in X:\n",
    "            # convert text to lowercase\n",
    "            text = text.lower()\n",
    "            \n",
    "            # Handle placeholders\n",
    "            text = re.sub(r'@USER', 'user', text) # Replace @USER by user\n",
    "            text = re.sub(r'URL', 'url', text) # Replace URL by url\n",
    "            \n",
    "            # Remove special characters but keep emojis\n",
    "            text = re.sub(r'[^\\w\\s\\U0001F300-\\U0001F9FF\\U0001F600-\\U0001F64F\\U0001F680-\\U0001F6FF]', ' ', text) # Replace special characters by space\n",
    "            \n",
    "            # Handle flags \n",
    "            text = self._handle_flag_emojis(text)\n",
    "            \n",
    "            # Convert other emojis into text\n",
    "            text = self._convert_emojis_to_text(text)\n",
    "            \n",
    "            # Remove extra spaces\n",
    "            text = ' '.join(text.split())\n",
    "            \n",
    "            cleaned_text.append(text)\n",
    "        return cleaned_text\n",
    "    \n",
    "    def _handle_flag_emojis(self, text):\n",
    "        # Convert flag emojis to country codes\n",
    "        # This handles the two-char flag emojis\n",
    "        flags = re.findall(r'[\\U0001F1E6-\\U0001F1FF]{2}', text) # Find all two-char emojis\n",
    "        for flag in flags:\n",
    "            country_code = f'flag_{flag}' # Create the country code\n",
    "            text = text.replace(flag, f'{country_code}') # Replace the flag with the country code\n",
    "        return text\n",
    "    \n",
    "    def _convert_emojis_to_text(self, text):\n",
    "        # Convert emojis into text\n",
    "        return emoji.demojize(text).replace(':', ' ').replace('_', ' ') # Replace ':' and '_' by space\n",
    "        "
   ]
  },
  {
   "cell_type": "markdown",
   "metadata": {},
   "source": [
    "### Create feature extractors"
   ]
  },
  {
   "cell_type": "code",
   "execution_count": 29,
   "metadata": {},
   "outputs": [],
   "source": [
    "class EmojiFeatureExtractor(BaseEstimator, TransformerMixin):\n",
    "    def __init__(self):\n",
    "        self.vectorizer = TfidfVectorizer(\n",
    "            ngram_range=(1, 1), # Consider unigrams\n",
    "            min_df=2, # Ignore terms that have a document frequency strictly lower than 2\n",
    "            max_df=0.95, # Ignore terms that have a document frequency strictly higher than 95%\n",
    "        )\n",
    "    \n",
    "    def fit(self, X, y=None): \n",
    "        # Extract only emoji-related features \n",
    "        emoji_features = [' '.join(re.findall(r'flag_\\w+|:[a-z_]+:', emoji.demojize(text))) for text in X] # Extract emojis and flags\n",
    "        self.vectorizer.fit(emoji_features) # Fit the vectorizer on the emoji features\n",
    "        return self\n",
    "    \n",
    "    def transform(self, X):\n",
    "        # Extract only emoji-related features\n",
    "        emoji_features = [' '.join(re.findall(r'flag_\\w+|:[a-z_]+:', emoji.demojize(text))) for text in X] # Extract emojis and flags\n",
    "        return self.vectorizer.transform(emoji_features)"
   ]
  },
  {
   "cell_type": "markdown",
   "metadata": {},
   "source": []
  },
  {
   "cell_type": "markdown",
   "metadata": {},
   "source": [
    "## Feature engineering"
   ]
  },
  {
   "cell_type": "markdown",
   "metadata": {},
   "source": [
    "## Main function"
   ]
  },
  {
   "cell_type": "markdown",
   "metadata": {},
   "source": [
    "## Test 1 BOW implementation"
   ]
  },
  {
   "cell_type": "markdown",
   "metadata": {},
   "source": [
    "First step, create a basic pipeline"
   ]
  },
  {
   "cell_type": "markdown",
   "metadata": {},
   "source": [
    "```\n",
    "# Create a basic pipeline of Bag of Words and Naive Bayes\n",
    "basic_pipeline = Pipeline([\n",
    "    ('vectorizer', CountVectorizer( # Convert the tweets into a sparse matrix using bag of words\n",
    "        ngram_range=(1, 2), # Use unigrams and bigrams\n",
    "        min_df=2, # Ignore terms that have a document frequency strictly lower than the given threshold\n",
    "        max_df=0.95, # Ignore terms that have a document frequency strictly higher than the given threshold\n",
    "    )), \n",
    "    ('classifier', MultinomialNB()) # Use Naive Bayes as the classifier\n",
    "])\n",
    "\n",
    "# Train the model\n",
    "basic_pipeline.fit(X_train, y_train)\n",
    "\n",
    "# Predict the dev set\n",
    "y_dev_pred = basic_pipeline.predict(X_dev)\n",
    "```"
   ]
  },
  {
   "cell_type": "markdown",
   "metadata": {},
   "source": [
    "## Test 2 -- TF-IDF  \n",
    "Use the optimised parameters "
   ]
  },
  {
   "cell_type": "markdown",
   "metadata": {},
   "source": [
    "```\n",
    "# Create pipeline with TF-IDF\n",
    "tfidf_pipeline = Pipeline([\n",
    "    ('Vectorizer', TfidfVectorizer(\n",
    "        ngram_range = (1, 2),\n",
    "        min_df = 2,\n",
    "        max_df = 0.95,\n",
    "        #TF-IDF specific parameters\n",
    "        sublinear_tf = True, # Apply sublinear tf scaling, i.e. replace tf with 1 + log(tf)\n",
    "        norm = 'l2', # Apply l2 normalization\n",
    "        use_idf = True, # Enable IDF weighting\n",
    "    )),\n",
    "    ('Classifier', MultinomialNB(\n",
    "        class_prior=[0.35, 0.65], # Weights for the classes -- change from the original default\n",
    "        alpha=5.0 # Additive (Laplace/Lidstone) smoothing parameter\n",
    "    ))\n",
    "])\n",
    "\n",
    "# Train the model\n",
    "tfidf_pipeline.fit(X_train, y_train)\n",
    "\n",
    "# Make predictions\n",
    "y_pred = tfidf_pipeline.predict(X_dev)\n",
    "```"
   ]
  },
  {
   "cell_type": "markdown",
   "metadata": {},
   "source": [
    "## Test 3 -- TFIDF combined with emoji features\n"
   ]
  },
  {
   "cell_type": "code",
   "execution_count": 30,
   "metadata": {},
   "outputs": [],
   "source": [
    "# 3. Create the main pipeline with feature union\n",
    "def create_pipeline():\n",
    "    # Text features\n",
    "    text_features = Pipeline([\n",
    "        ('cleaner', TextCleaner()), # Clean the text\n",
    "        ('tfidf', TfidfVectorizer( # Extract text features\n",
    "            ngram_range=(1, 2), # Consider unigrams, bigrams, and trigrams\n",
    "            min_df=2,\n",
    "            max_df=0.95,\n",
    "            sublinear_tf=True,\n",
    "            norm='l2'\n",
    "        ))\n",
    "    ])\n",
    "    \n",
    "    # Emoji features\n",
    "    emoji_features = Pipeline([\n",
    "        ('emoji', EmojiFeatureExtractor()) # Extract emoji features\n",
    "    ])\n",
    "    \n",
    "    # Combine features\n",
    "    features = FeatureUnion([\n",
    "        ('text_features', text_features),\n",
    "        ('emoji_features', emoji_features)\n",
    "    ])\n",
    "    \n",
    "    # Complete pipeline\n",
    "    pipeline = Pipeline([\n",
    "        ('features', features),\n",
    "        ('classifier', MultinomialNB(\n",
    "            class_prior=[0.35, 0.65],\n",
    "            alpha=5.0\n",
    "        ))\n",
    "    ])\n",
    "    \n",
    "    return pipeline"
   ]
  },
  {
   "cell_type": "markdown",
   "metadata": {},
   "source": [
    "# Results  "
   ]
  },
  {
   "cell_type": "markdown",
   "metadata": {},
   "source": [
    "```\n",
    "# Evaluate the model\n",
    "print('Train Accuracy:', tfidf_pipeline.score(X_train, y_train))\n",
    "print('Dev Accuracy:', accuracy_score(y_dev, y_dev_pred))\n",
    "print(classification_report(y_dev, y_dev_pred, target_names=class_names))\n",
    "```"
   ]
  },
  {
   "cell_type": "code",
   "execution_count": 31,
   "metadata": {},
   "outputs": [
    {
     "name": "stdout",
     "output_type": "stream",
     "text": [
      "Train Accuracy: 0.7821717460576845\n",
      "Dev Accuracy: 0.6986986986986987\n",
      "               precision    recall  f1-score   support\n",
      "\n",
      "    Offensive       0.73      0.85      0.79       647\n",
      "Not Offensive       0.61      0.41      0.49       352\n",
      "\n",
      "     accuracy                           0.70       999\n",
      "    macro avg       0.67      0.63      0.64       999\n",
      " weighted avg       0.69      0.70      0.68       999\n",
      "\n"
     ]
    }
   ],
   "source": [
    "# Create and train the pipeline\n",
    "pipeline = create_pipeline()\n",
    "pipeline.fit(X_train, y_train)\n",
    "\n",
    "# Make predictions\n",
    "y_pred = pipeline.predict(X_dev)\n",
    "\n",
    "# Evaluate\n",
    "print('Train Accuracy:', pipeline.score(X_train, y_train))\n",
    "print('Dev Accuracy:', accuracy_score(y_dev, y_pred))\n",
    "print(classification_report(y_dev, y_pred, target_names=class_names))"
   ]
  },
  {
   "cell_type": "code",
   "execution_count": 36,
   "metadata": {},
   "outputs": [
    {
     "data": {
      "image/png": "[encoded data removed]",
      "text/plain": [
       "<Figure size 800x600 with 2 Axes>"
      ]
     },
     "metadata": {},
     "output_type": "display_data"
    }
   ],
   "source": [
    "# Confusion matrix visualisation \n",
    "def plot_confusion_matrix(y_true, y_pred, title = ' Confusion Matrix - Naive Bayes'):\n",
    "    cm = confusion_matrix(y_true, y_pred)\n",
    "    plt.figure(figsize=(8, 6))\n",
    "    sns.heatmap(cm, annot=True, fmt='d', cmap='Blues', \n",
    "                xticklabels=class_names, yticklabels=class_names)\n",
    "    plt.title(title)\n",
    "    plt.ylabel('True Label')\n",
    "    plt.xlabel('Predicted Label')\n",
    "    plt.show()\n",
    "    \n",
    "\n",
    "# Show the confusion matrix\n",
    "plot_confusion_matrix(y_dev, y_dev_pred)"
   ]
  },
  {
   "cell_type": "markdown",
   "metadata": {},
   "source": [
    "# Ad hoc check  \n",
    "To ensure that I didn't make any stupid mistake like turning the class names around"
   ]
  },
  {
   "cell_type": "code",
   "execution_count": 35,
   "metadata": {},
   "outputs": [
    {
     "name": "stdout",
     "output_type": "stream",
     "text": [
      "Example Predictions:\n",
      "----------------------------------------------------------------------------------------------------\n",
      "Text: @USER He is not a troll he is simply dumb but I’m enjoying it I love tweeter for this 🤣🤣🤣🤣🤣🤣🤣...\n",
      "True label: 1\n",
      "Predicted label: 0\n",
      "Correct prediction: False\n",
      "----------------------------------------------------------------------------------------------------\n",
      "Text: @USER I understand Annie she is stuck in between ! I understand her !...\n",
      "True label: 0\n",
      "Predicted label: 0\n",
      "Correct prediction: True\n",
      "----------------------------------------------------------------------------------------------------\n",
      "Text: @USER @USER Hillary was blaming women not too long ago.  Better hope the Uneducated\" don't show up t...\n",
      "True label: 1\n",
      "Predicted label: 0\n",
      "Correct prediction: False\n",
      "----------------------------------------------------------------------------------------------------\n",
      "Text: @USER @USER I support Jahs blessings on his hussle ....he is d bomb...\n",
      "True label: 1\n",
      "Predicted label: 0\n",
      "Correct prediction: False\n",
      "----------------------------------------------------------------------------------------------------\n",
      "Text: @USER You are runnning on the word of something you didn’t see...\n",
      "True label: 0\n",
      "Predicted label: 0\n",
      "Correct prediction: True\n",
      "----------------------------------------------------------------------------------------------------\n",
      "Text: @USER @USER Likely an AntiFa thug who plasterd himself with temp-tatts for the interview with the Sh...\n",
      "True label: 0\n",
      "Predicted label: 0\n",
      "Correct prediction: True\n",
      "----------------------------------------------------------------------------------------------------\n",
      "Text: @USER @USER I think this is more a way to scare Brexiteer Conservatives into toeing the party line. ...\n",
      "True label: 0\n",
      "Predicted label: 0\n",
      "Correct prediction: True\n",
      "----------------------------------------------------------------------------------------------------\n",
      "Text: @USER If that was my missus horse he’d fuck right off and have us chasing him like bell ends...\n",
      "True label: 1\n",
      "Predicted label: 1\n",
      "Correct prediction: True\n",
      "----------------------------------------------------------------------------------------------------\n",
      "Text: @USER He is jeopardizing our security!  If he wants to show he favors transparency he can instead  r...\n",
      "True label: 0\n",
      "Predicted label: 0\n",
      "Correct prediction: True\n",
      "----------------------------------------------------------------------------------------------------\n",
      "Text: #MaxineWaters: #Trump ‘Has Displayed the Most Despicable Behavior That Any Human Being Could Do’ URL...\n",
      "True label: 1\n",
      "Predicted label: 1\n",
      "Correct prediction: True\n",
      "----------------------------------------------------------------------------------------------------\n",
      "\n",
      "Confusion Matrix:\n",
      "[[553  94]\n",
      " [207 145]]\n"
     ]
    }
   ],
   "source": [
    "# Get predictions\n",
    "y_dev_pred = pipeline.predict(X_dev)\n",
    "\n",
    "# Print some examples (showing the text, true label, and predicted label)\n",
    "print(\"Example Predictions:\")\n",
    "print(\"-\" * 100)  # Separator line\n",
    "for text, true_label, pred_label in zip(X_dev[:10], y_dev[:10], y_dev_pred[:10]):\n",
    "    print(f\"Text: {text[:100]}...\")  # Only show first 100 characters to keep output readable\n",
    "    print(f\"True label: {true_label}\")\n",
    "    print(f\"Predicted label: {pred_label}\")\n",
    "    print(f\"Correct prediction: {true_label == pred_label}\")\n",
    "    print(\"-\" * 100)  # Separator line\n",
    "\n",
    "# Also print some statistics\n",
    "print(\"\\nConfusion Matrix:\")\n",
    "from sklearn.metrics import confusion_matrix\n",
    "print(confusion_matrix(y_dev, y_dev_pred))"
   ]
  }
 ],
 "metadata": {
  "kernelspec": {
   "display_name": "tensorflow",
   "language": "python",
   "name": "python3"
  },
  "language_info": {
   "codemirror_mode": {
    "name": "ipython",
    "version": 3
   },
   "file_extension": ".py",
   "mimetype": "text/x-python",
   "name": "python",
   "nbconvert_exporter": "python",
   "pygments_lexer": "ipython3",
   "version": "3.10.13"
  }
 },
 "nbformat": 4,
 "nbformat_minor": 2
}
